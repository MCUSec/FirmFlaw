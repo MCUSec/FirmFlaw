{
 "cells": [
  {
   "cell_type": "code",
   "execution_count": 52,
   "id": "ce5cce15-402c-4ce6-920f-c1238800bf17",
   "metadata": {},
   "outputs": [
    {
     "name": "stdout",
     "output_type": "stream",
     "text": [
      "247162\n"
     ]
    },
    {
     "data": {
      "image/png": "[encoded data removed]",
      "text/plain": [
       "<Figure size 640x480 with 1 Axes>"
      ]
     },
     "metadata": {},
     "output_type": "display_data"
    }
   ],
   "source": [
    "import matplotlib.pyplot as plt\n",
    "\n",
    "# 你的未排序的数据列表\n",
    "with open('./bak/func_database.csv') as file:\n",
    "    funcs_ = file.readlines()\n",
    "\n",
    "data = []\n",
    "for line in funcs_:\n",
    "    data.append(int(line.split(',')[-1][:-1]))    \n",
    "\n",
    "# 创建 x 轴的索引，可以是数据的索引或者简单的从0开始的数字\n",
    "x_values = range(len(data))\n",
    "\n",
    "# 绘制折线图\n",
    "plt.plot(x_values, sorted(data), marker='o', linestyle='-', color='b', label='arm')\n",
    "\n",
    "# 添加标题和标签\n",
    "plt.title('The function number identified by Ghidra auto analysis')\n",
    "plt.xlabel('')\n",
    "plt.ylabel('functions')\n",
    "\n",
    "# 显示图例\n",
    "plt.legend()\n",
    "\n",
    "# 显示图形\n",
    "plt.savefig('./func_analyze.png')\n",
    "\n",
    "print(sum(data))"
   ]
  },
  {
   "cell_type": "code",
   "execution_count": 48,
   "id": "f5a23748-0024-4120-8cb9-a190d8355ece",
   "metadata": {},
   "outputs": [
    {
     "name": "stdout",
     "output_type": "stream",
     "text": [
      "CREATE TABLE IF NOT EXISTS func_table (id INTEGER PRIMARY KEY,name TEXT,program TEXT,hash INTEGER,numAddresses INTEGER,mnemonics TEXT,block_num INTEGER,edge_num INTEGER,call_num INTEGER,jump_num INTEGER);\n",
      "CREATE INDEX IF NOT EXISTS index_hash on func_table(hash);\n"
     ]
    }
   ],
   "source": [
    "from utils.db import *\n",
    "BIN_DATABASE = './step2_postSig/arm/bin_func.db'\n",
    "conn = sqlite3.connect(BIN_DATABASE)\n",
    "cursor = conn.cursor()\n",
    "cursor.execute('ALTER TABLE func_table RENAME TO old_table;')\n",
    "conn.commit()\n",
    "sql_create_table(cursor,FUNC_KEYS,FUNC_TABLE_NAME)\n",
    "sql_create_index(cursor,FUNC_TABLE_NAME,['hash'],'index_hash')\n",
    "conn.commit()\n",
    "conn.close()"
   ]
  },
  {
   "cell_type": "markdown",
   "id": "9dc81254-39a7-4d3a-9450-e419d0662e52",
   "metadata": {},
   "source": [
    "# Summarize the data "
   ]
  },
  {
   "cell_type": "code",
   "execution_count": 53,
   "id": "768bba94-7972-4321-ba64-849e28980539",
   "metadata": {},
   "outputs": [],
   "source": [
    "# The func lists\n",
    "twr_funcs = set()\n",
    "twr_num = 0\n",
    "hal_funcs = set()\n",
    "hal_num = 0\n",
    "freertos_funcs = set()\n",
    "freertos_num = 0\n",
    "nrf_sdk_programs = set()\n",
    "nrf_sdk_num = 0 \n",
    "# The Programs lists \n",
    "nrf_mesh_sdk_funcs = set()\n",
    "mesh_num = 0\n",
    "arduino_programs = set(['PLC', 'Heat_Press', 'Reflow_Oven', 'Gateway', 'Steering_Control'])\n",
    "arduino_num = 0"
   ]
  },
  {
   "cell_type": "code",
   "execution_count": 54,
   "id": "2199a55a-0910-46e3-a7d2-ac7235cd0137",
   "metadata": {},
   "outputs": [],
   "source": [
    "with open('./stm32cubef4-drivers-tags', 'r') as file:\n",
    "    tags = file.readlines()\n",
    "for line in tags:\n",
    "    names = line.split('\\t')\n",
    "    if names[-2] == 'f':\n",
    "        # the stm hals \n",
    "        hal_funcs.add(names[0])"
   ]
  },
  {
   "cell_type": "code",
   "execution_count": 55,
   "id": "fd68bcb6-d9e2-477b-b1dd-f00e2f58978e",
   "metadata": {},
   "outputs": [],
   "source": [
    "# get the twr-sdk\n",
    "with open('./twr-tags', 'r') as file:\n",
    "    tags = file.readlines()\n",
    "for line in tags:\n",
    "    names = line.split('\\t')\n",
    "    if names[-2] == 'f':\n",
    "        # the stm hals \n",
    "        if names[1].startswith('stm'):\n",
    "            hal_funcs.add(names[0])\n",
    "        else:\n",
    "            twr_funcs.add(names[0])"
   ]
  },
  {
   "cell_type": "code",
   "execution_count": 56,
   "id": "1bd2111e-30f3-4ddc-81b9-85556e1a3364",
   "metadata": {},
   "outputs": [],
   "source": [
    "# get freertos funcs \n",
    "with open('./freertos-tags', 'r') as file:\n",
    "    tags = file.readlines()\n",
    "for line in tags:\n",
    "    names = line.split('\\t')\n",
    "    if names[-2] == 'f':\n",
    "        freertos_funcs.add(names[0])"
   ]
  },
  {
   "cell_type": "code",
   "execution_count": 58,
   "id": "3cb8f31c-042e-479d-bd57-97e8288a06b8",
   "metadata": {},
   "outputs": [],
   "source": [
    "# get nrf related funcs\n",
    "import os \n",
    "for root, dirs, files in os.walk('./match_base/nrf-mesh-sdk/'):\n",
    "    for file in files:\n",
    "        nrf_mesh_sdk_programs.add(file)"
   ]
  },
  {
   "cell_type": "code",
   "execution_count": 75,
   "id": "d2852e90-5a59-4c42-aa50-fbe2fd059b5c",
   "metadata": {},
   "outputs": [
    {
     "name": "stdout",
     "output_type": "stream",
     "text": [
      "bypass\n",
      "twr_num = 16596,hal_num = 6206,freertos_num = 703,mesh_num = 364,arduino_num = 306\n"
     ]
    }
   ],
   "source": [
    "# read match results \n",
    "twr_num = 0\n",
    "hal_num = 0\n",
    "freertos_num = 0\n",
    "mesh_num = 0\n",
    "arduino_num = 0\n",
    "arduino_results = set()\n",
    "hal_results = set()\n",
    "freertos_results = set()\n",
    "import json\n",
    "with open('./func_max_match.json') as f:\n",
    "    data = json.load(f)\n",
    "for (program, v) in data.items():\n",
    "    if program in dell:\n",
    "        print('bypass')\n",
    "        continue \n",
    "    for (func, match) in v.items():\n",
    "        if match['name'] in twr_funcs:\n",
    "            twr_num += 1\n",
    "        if match['name'] in hal_funcs and match['name'] != 'Reset_Handler' and match['name'] != 'main':\n",
    "            hal_results.add(match['name'])\n",
    "            hal_num += 1\n",
    "        if match['name'] in freertos_funcs:\n",
    "            freertos_results.add(program)\n",
    "            freertos_num += 1\n",
    "        # program match \n",
    "        if match['program'] in nrf_mesh_sdk_programs:\n",
    "            mesh_num += 1\n",
    "        if match['program'] in arduino_programs and match['name'] not in hal_funcs:\n",
    "            arduino_results.add(match['name'])\n",
    "            arduino_num += 1\n",
    "\n",
    "print(f'twr_num = {twr_num},hal_num = {hal_num},freertos_num = {freertos_num},mesh_num = {mesh_num},arduino_num = {arduino_num}')"
   ]
  },
  {
   "cell_type": "code",
   "execution_count": 2,
   "id": "e9f56eb0-6616-44d4-b6af-b077c026c766",
   "metadata": {},
   "outputs": [
    {
     "name": "stdout",
     "output_type": "stream",
     "text": [
      "Function execution timed out!\n"
     ]
    }
   ],
   "source": [
    "import signal\n",
    "\n",
    "def timeout_handler(signum, frame):\n",
    "    raise TimeoutError(\"Timed out!\")\n",
    "\n",
    "def function_with_timeout(seconds):\n",
    "    signal.signal(signal.SIGALRM, timeout_handler)  # 注册信号处理器\n",
    "    signal.alarm(seconds)  # 设置闹钟，在指定秒数后发送信号\n",
    "\n",
    "    try:\n",
    "        # 这里是你的函数调用\n",
    "        your_function()\n",
    "    except TimeoutError:\n",
    "        print(\"Function execution timed out!\")\n",
    "    finally:\n",
    "        signal.alarm(0)  # 清除闹钟设置\n",
    "\n",
    "# 使用示例：\n",
    "function_with_timeout(5)"
   ]
  },
  {
   "cell_type": "code",
   "execution_count": 1,
   "id": "1e9820c6-935d-478f-8a9e-e458ebc6dc66",
   "metadata": {},
   "outputs": [],
   "source": [
    "from utils.db import *\n",
    "#BIN_DATABASE = './step2_postSig/arm/bin_func.db'\n",
    "DATABASE = './match_base/func.db'\n",
    "conn = sqlite3.connect(DATABASE)\n",
    "cursor = conn.cursor()\n",
    "#cursor.execute('DROP TABLE old_table')\n",
    "#cursor.execute(\"SELECT program, COUNT(*) FROM func_table GROUP BY program;\")\n",
    "cursor.execute('SELECT * FROM func_table WHERE program=\"cf2_nrf.elf\"')\n",
    "results = cursor.fetchall()\n",
    "conn.commit()\n",
    "conn.close()"
   ]
  },
  {
   "cell_type": "code",
   "execution_count": null,
   "id": "8c5bb909-20e2-4e37-9108-d838653a0920",
   "metadata": {},
   "outputs": [],
   "source": []
  },
  {
   "cell_type": "markdown",
   "id": "e65f4c73-a28a-4aa0-85e5-6a8b299e9413",
   "metadata": {},
   "source": [
    "# END"
   ]
  },
  {
   "cell_type": "code",
   "execution_count": null,
   "id": "06012ed3-ead6-40d6-831a-bced49d43045",
   "metadata": {},
   "outputs": [],
   "source": [
    "import os\n",
    "import subprocess\n",
    "for root, dirs, files in os.walk('./crypto-cortexm'):\n",
    "    archives_ = [f[:-2] for f in files if f.endswith('.a')]\n",
    "    for ar_ in archives_:\n",
    "        dir_ = root + '/' + ar_\n",
    "        os.makedirs(dir_)\n",
    "        subprocess.Popen('ar x ../' + ar_ + '.a', shell=True, cwd=dir_)\n",
    "    #subprocess.Popen('ls', shell=True, cwd=root)"
   ]
  },
  {
   "cell_type": "code",
   "execution_count": 2,
   "id": "109cd915-1b0d-4e55-8836-bf815f9d6d35",
   "metadata": {},
   "outputs": [
    {
     "name": "stdout",
     "output_type": "stream",
     "text": [
      "Success import database\n"
     ]
    }
   ],
   "source": [
    "import sqlite3\n",
    "BIN_DATABASE = './step2_postSig/arm/bin_func.db'\n",
    "conn = sqlite3.connect(BIN_DATABASE)\n",
    "cursor = conn.cursor()\n",
    "cursor.execute('SELECT DISTINCT program FROM func_table WHERE program NOT LIKE \"%noheader\"')\n",
    "result1 = cursor.fetchall()\n",
    "#results = cursor.fetchall()\n",
    "conn.close()\n",
    "\n",
    "dell = []\n",
    "for i in result1:\n",
    "    dell.append(i[0] + 'noheader')\n",
    "import sqlite3\n",
    "\n",
    "BIN_DATABASE = './step2_postSig/arm/bin_func.db'\n",
    "conn = sqlite3.connect(BIN_DATABASE)\n",
    "cursor = conn.cursor()\n",
    "\n",
    "# 获取原始记录数量\n",
    "cursor.execute(\"SELECT COUNT(*) FROM func_table\")\n",
    "initial_count = cursor.fetchone()[0]\n",
    "print(f'Initial count: {initial_count}')\n",
    "\n",
    "# 遍历并删除\n",
    "# 这里假设'dell'变量是一个包含需要删除的program值的列表\n",
    "for i in dell:\n",
    "    print(f'Deleting program: {i}')\n",
    "    cursor.execute(f'DELETE FROM func_table WHERE program = \"{i}\"')\n",
    "    \n",
    "# 提交事务\n",
    "conn.commit()\n",
    "\n",
    "# 获取删除后的记录数量\n",
    "cursor.execute(\"SELECT COUNT(*) FROM func_table\")\n",
    "final_count = cursor.fetchone()[0]\n",
    "print(f'Final count: {final_count}')\n",
    "\n",
    "# 关闭游标和连接\n",
    "cursor.close()\n",
    "conn.close()from utils.db import test_import\n",
    "print(test_import())"
   ]
  },
  {
   "cell_type": "code",
   "execution_count": null,
   "id": "9b6b644e-e132-4b76-a883-93fee3fc56a1",
   "metadata": {},
   "outputs": [],
   "source": [
    "with open('./step2_postSig/binwalk.log') as file:\n",
    "    lines = file.readlines()\n",
    "for i in range(len(lines)):\n",
    "    if '_FreeRTOS,ARM' in lines[i]:\n",
    "        for j in range(i,0,-1):\n",
    "            if lines[j].startswith('./'):\n",
    "                print(lines[j])\n",
    "                break"
   ]
  },
  {
   "cell_type": "code",
   "execution_count": null,
   "id": "d16df853-0dab-47f0-933c-fd8b7c4954a7",
   "metadata": {},
   "outputs": [],
   "source": [
    "# MPU\n",
    "# Misuse\n",
    "# RTOS (Version)-> protocol (lwip,) (Version) => version based CVE\n",
    "# protocol (MQTT) -> (version) -> version based CVE \n",
    "# 证书 credentials 静态分析中的 证书 后门 => linux based functions \n",
    "# (设备ID) => 设备认证相关 安全设置 MAC 静态去做 \n",
    "# BLE bluetooth protocol zigbee *******"
   ]
  },
  {
   "cell_type": "code",
   "execution_count": null,
   "id": "1523e2ef-dfa9-4031-971a-48e269b9e7bb",
   "metadata": {},
   "outputs": [],
   "source": []
  }
 ],
 "metadata": {
  "kernelspec": {
   "display_name": "Python 3 (ipykernel)",
   "language": "python",
   "name": "python3"
  },
  "language_info": {
   "codemirror_mode": {
    "name": "ipython",
    "version": 3
   },
   "file_extension": ".py",
   "mimetype": "text/x-python",
   "name": "python",
   "nbconvert_exporter": "python",
   "pygments_lexer": "ipython3",
   "version": "3.11.7"
  }
 },
 "nbformat": 4,
 "nbformat_minor": 5
}
