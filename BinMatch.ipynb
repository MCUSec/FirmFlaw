{
 "cells": [
  {
   "cell_type": "code",
   "execution_count": 6,
   "id": "9d14fdad-d1d8-469b-8542-b0125de5b37e",
   "metadata": {},
   "outputs": [],
   "source": [
    "from utils.key import *\n",
    "from utils.db import *\n",
    "from utils.match import *"
   ]
  },
  {
   "cell_type": "code",
   "execution_count": 8,
   "id": "bbb3e17f-aa98-4848-91c6-c39ac20df0e2",
   "metadata": {},
   "outputs": [
    {
     "name": "stderr",
     "output_type": "stream",
     "text": [
      "100%|█████████████████████████████████████████████████████████████████████████| 134823/134823 [16:46<00:00, 133.92it/s]\n"
     ]
    }
   ],
   "source": [
    "from tqdm import tqdm,trange\n",
    "\n",
    "BIN_FUNC_DB = './step2_postSig/arm/bin_func.db'\n",
    "conn = sqlite3.connect(BIN_FUNC_DB)\n",
    "cursor = conn.cursor()\n",
    "\n",
    "cursor.execute('SELECT COUNT(*) FROM func_table')\n",
    "result_len = cursor.fetchone()[0]\n",
    "\n",
    "BASE_DB = './match_base/func.db'\n",
    "conn1 = sqlite3.connect(BASE_DB)\n",
    "cursor1 = conn1.cursor()\n",
    "\n",
    "cursor.execute('SELECT * FROM func_table')\n",
    "all_results = {}\n",
    "max_results = {}\n",
    "for i in trange(result_len):\n",
    "    result_ = cursor.fetchone()\n",
    "    if result_ is None:\n",
    "        tqdm.write(f'wrong')\n",
    "        break \n",
    "    # del the id \n",
    "    result_ = result_[1:]\n",
    "    name_ = result_[func_key_idx('name')]\n",
    "    program_ = result_[func_key_idx('program')]\n",
    "    (max_, matches_) = compare_func_db(cursor1, result_)\n",
    "    if len(matches_) > 0:\n",
    "        if all_results.get(program_) is None:\n",
    "            all_results[program_] = {}\n",
    "            max_results[program_] = {}\n",
    "        match_result_ = []\n",
    "        for match_ in matches_:\n",
    "            # only add func name and program name and numAddresses and ratio to result_\n",
    "            match_result_.append([match_[0][0],match_[0][1],match_[0][3],match_[1]])\n",
    "        all_results[program_][name_] = match_result_\n",
    "        # max results \n",
    "        max_results[program_][name_] = {'name':max_[0][0],\n",
    "                                    'program': max_[0][1],\n",
    "                                    'numAddr': max_[0][3],\n",
    "                                    'ratio': max_[1]}\n",
    "conn.close()\n",
    "conn1.close()"
   ]
  },
  {
   "cell_type": "code",
   "execution_count": 9,
   "id": "156e339b-d806-44ab-afb9-e1f3aafca342",
   "metadata": {},
   "outputs": [],
   "source": [
    "import json\n",
    "with open('./func_match.json', 'w') as file:\n",
    "    json.dump(all_results, file, indent=4)\n",
    "with open('./func_max_match.json', 'w') as file:\n",
    "    json.dump(max_results, file, indent=4)"
   ]
  },
  {
   "cell_type": "code",
   "execution_count": 10,
   "id": "7c90e925-703e-4274-9f39-c197f9325423",
   "metadata": {},
   "outputs": [],
   "source": [
    "with open('match_program.csv', 'w') as file:\n",
    "    for (k,v) in max_results.items():\n",
    "        file.write(f'{k},{len(v)}\\n')"
   ]
  },
  {
   "cell_type": "markdown",
   "id": "3331f54f-1fc4-4128-8753-2ee3fe5a676b",
   "metadata": {},
   "source": [
    "# END"
   ]
  },
  {
   "cell_type": "code",
   "execution_count": null,
   "id": "4038518b-22c1-4c15-89b2-8d1d3d0419d6",
   "metadata": {},
   "outputs": [],
   "source": [
    "# Not use now, match the functions \n",
    "from ghidra.program.flatapi import FlatProgramAPI\n",
    "from tqdm import tqdm\n",
    "DATABASE = './match_base/func.db'\n",
    "conn = sqlite3.connect(DATABASE)\n",
    "FUNC_TABLE_NAME = 'func_table'\n",
    "cursor = conn.cursor()\n",
    "all_results_ = {}\n",
    "# collect file name for tqdm \n",
    "#file_names = []\n",
    "#for file_ in project.getRootFolder().getFiles():\n",
    " #   file_names.append(file_.getName())\n",
    "# use tqdm to generate the progress bar \n",
    "for file_ in tqdm(project.getRootFolder().getFiles()):\n",
    "    # print(f\"Match program {name_}\")\n",
    "    name_ = file_.getName()\n",
    "    program = project.openProgram('/', name_, True)\n",
    "    match_result_ = {}\n",
    "    for func_ in program.getListing().getFunctions(True):\n",
    "            if filter_func(func_):\n",
    "                (max_, matches_) = compare_func(cursor, func_)\n",
    "                if len(matches_) > 0:\n",
    "                    match_result_[func_.getName()] = []\n",
    "                    for match_ in matches_:\n",
    "                        # only add func name and ratio to result_\n",
    "                        match_result_[func_.getName()].append([match_[0][1],match_[1]])\n",
    "                else:\n",
    "                    continue \n",
    "                    print(f'No match {func_.getName()}')\n",
    "    # remember closing the program to avoid memory usage \n",
    "    project.close(program)\n",
    "    if len(match_result_) > 0:\n",
    "        tqdm.write(f\"\\033[31m{name_} has match {len(match_result_)} times\\033[0m\")\n",
    "        all_results_[name_] = match_result_\n",
    "conn.close()"
   ]
  },
  {
   "cell_type": "code",
   "execution_count": 51,
   "id": "c20e3d67-10b7-49b6-bf2c-715ca8da9511",
   "metadata": {},
   "outputs": [
    {
     "data": {
      "text/plain": [
       "\"<class 'str'>\""
      ]
     },
     "execution_count": 51,
     "metadata": {},
     "output_type": "execute_result"
    }
   ],
   "source": [
    "a = 'a'\n",
    "str(type(a))"
   ]
  },
  {
   "cell_type": "code",
   "execution_count": 8,
   "id": "ef16defc-5fed-4288-8005-f71b598e3089",
   "metadata": {},
   "outputs": [],
   "source": [
    "import sqlite3\n",
    "BIN_FUNC_DB = './step2_postSig/arm/bin_func.db'\n",
    "conn = sqlite3.connect(BIN_FUNC_DB)\n",
    "cursor = conn.cursor()\n",
    "\n",
    "cursor.execute('SELECT COUNT(*)ROM func_table')\n",
    "result = cursor.fetchone()"
   ]
  },
  {
   "cell_type": "code",
   "execution_count": 9,
   "id": "f17462a5-a636-42ec-9c4e-f45e919d8c17",
   "metadata": {},
   "outputs": [
    {
     "data": {
      "text/plain": [
       "10742545"
      ]
     },
     "execution_count": 9,
     "metadata": {},
     "output_type": "execute_result"
    }
   ],
   "source": [
    "result[0]"
   ]
  },
  {
   "cell_type": "code",
   "execution_count": null,
   "id": "217bc1af-c399-487b-b050-fd923da40091",
   "metadata": {},
   "outputs": [],
   "source": []
  }
 ],
 "metadata": {
  "kernelspec": {
   "display_name": "Python 3 (ipykernel)",
   "language": "python",
   "name": "python3"
  },
  "language_info": {
   "codemirror_mode": {
    "name": "ipython",
    "version": 3
   },
   "file_extension": ".py",
   "mimetype": "text/x-python",
   "name": "python",
   "nbconvert_exporter": "python",
   "pygments_lexer": "ipython3",
   "version": "3.11.7"
  }
 },
 "nbformat": 4,
 "nbformat_minor": 5
}
